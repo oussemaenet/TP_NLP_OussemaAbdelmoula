{
  "cells": [
    {
      "cell_type": "code",
      "execution_count": null,
      "id": "da9cc23f",
      "metadata": {
        "id": "da9cc23f"
      },
      "outputs": [],
      "source": [
        "# Importing necessary libraries\n",
        "import numpy as np\n",
        "import pandas as pd\n",
        "import matplotlib.pyplot as plt\n",
        "import re\n",
        "import nltk\n",
        "from nltk.corpus import stopwords\n",
        "from nltk.stem import WordNetLemmatizer\n",
        "import gensim\n",
        "from gensim.models import Word2Vec, KeyedVectors\n",
        "from sklearn.model_selection import train_test_split\n",
        "from sklearn.feature_extraction.text import CountVectorizer, TfidfVectorizer\n",
        "from sklearn.decomposition import TruncatedSVD\n",
        "from sklearn.metrics import mean_absolute_error, accuracy_score\n",
        "from sklearn.ensemble import RandomForestRegressor, RandomForestClassifier\n",
        "from sklearn.neighbors import KNeighborsRegressor\n",
        "from sklearn.neural_network import MLPRegressor\n",
        "from sklearn.pipeline import Pipeline\n",
        "from sklearn.manifold import TSNE\n",
        "from keras.models import Sequential, Model\n",
        "from keras.layers import Embedding, LSTM, Dense\n",
        "from keras.preprocessing.sequence import pad_sequences\n",
        "\n",
        "# Download NLTK resources\n",
        "nltk.download('stopwords')\n",
        "nltk.download('wordnet')\n",
        "nltk.download('punkt')\n",
        "warnings.filterwarnings('ignore')"
      ]
    },
    {
      "cell_type": "markdown",
      "id": "010826fd",
      "metadata": {
        "id": "010826fd"
      },
      "source": [
        "<h1 align=center><font size = 5 color='blue'>Chargement et préparation des données</font></h1>"
      ]
    },
    {
      "cell_type": "code",
      "execution_count": null,
      "id": "31d805d8",
      "metadata": {
        "id": "31d805d8",
        "outputId": "105e7e5a-45ce-4a11-986f-0ac52c6d11c5"
      },
      "outputs": [
        {
          "data": {
            "text/html": [
              "<div>\n",
              "<style scoped>\n",
              "    .dataframe tbody tr th:only-of-type {\n",
              "        vertical-align: middle;\n",
              "    }\n",
              "\n",
              "    .dataframe tbody tr th {\n",
              "        vertical-align: top;\n",
              "    }\n",
              "\n",
              "    .dataframe thead th {\n",
              "        text-align: right;\n",
              "    }\n",
              "</style>\n",
              "<table border=\"1\" class=\"dataframe\">\n",
              "  <thead>\n",
              "    <tr style=\"text-align: right;\">\n",
              "      <th></th>\n",
              "      <th>Stars</th>\n",
              "      <th>Text</th>\n",
              "    </tr>\n",
              "  </thead>\n",
              "  <tbody>\n",
              "    <tr>\n",
              "      <th>0</th>\n",
              "      <td>1</td>\n",
              "      <td>Boarded my English Mastiff here over New Year'...</td>\n",
              "    </tr>\n",
              "    <tr>\n",
              "      <th>1</th>\n",
              "      <td>1</td>\n",
              "      <td>Another case of the Emperor's New Clothes.  So...</td>\n",
              "    </tr>\n",
              "    <tr>\n",
              "      <th>2</th>\n",
              "      <td>1</td>\n",
              "      <td>Came on Valentine's Day night having pre-bough...</td>\n",
              "    </tr>\n",
              "  </tbody>\n",
              "</table>\n",
              "</div>"
            ],
            "text/plain": [
              "   Stars                                               Text\n",
              "0      1  Boarded my English Mastiff here over New Year'...\n",
              "1      1  Another case of the Emperor's New Clothes.  So...\n",
              "2      1  Came on Valentine's Day night having pre-bough..."
            ]
          },
          "execution_count": 2,
          "metadata": {},
          "output_type": "execute_result"
        }
      ],
      "source": [
        "data=pd.read_csv('../data/yelp-text-by-stars.csv',sep=';',encoding=\"ISO-8859-1\")\n",
        "data.head(3)"
      ]
    },
    {
      "cell_type": "code",
      "execution_count": null,
      "id": "9699c7ae",
      "metadata": {
        "id": "9699c7ae"
      },
      "outputs": [],
      "source": [
        "corpus = data.iloc[:, 1].values  # Extract text data\n",
        "Y = data.iloc[:, 0].values  # Extract target values"
      ]
    },
    {
      "cell_type": "code",
      "source": [
        "data.info"
      ],
      "metadata": {
        "id": "BkNcszOU0vAI"
      },
      "id": "BkNcszOU0vAI",
      "execution_count": null,
      "outputs": []
    },
    {
      "cell_type": "code",
      "source": [
        "import matplotlib.pyplot as plt\n",
        "\n",
        "\n",
        "\n",
        "# Data analysis and visualization\n",
        "\n",
        "# Analyzing the distribution of the 'Stars' column\n",
        "star_distribution = data['Stars'].value_counts().sort_index()\n",
        "\n",
        "# Plotting the distribution\n",
        "plt.figure(figsize=(10, 6))\n",
        "star_distribution.plot(kind='bar')\n",
        "plt.title('Distribution of Review Stars')\n",
        "plt.xlabel('Stars')\n",
        "plt.ylabel('Number of Reviews')\n",
        "plt.xticks(rotation=0)\n",
        "plt.grid(axis='y')\n",
        "\n",
        "plt.show()\n"
      ],
      "metadata": {
        "id": "0IXVVzyb0u-E"
      },
      "id": "0IXVVzyb0u-E",
      "execution_count": null,
      "outputs": []
    },
    {
      "cell_type": "code",
      "source": [
        " # Basic Statistical Analysis\n",
        " stars_description = data['Stars'].describe()\n",
        " stars_description"
      ],
      "metadata": {
        "id": "gThdVA6S0u7g"
      },
      "id": "gThdVA6S0u7g",
      "execution_count": null,
      "outputs": []
    },
    {
      "cell_type": "code",
      "execution_count": null,
      "id": "1e4f0a26",
      "metadata": {
        "id": "1e4f0a26",
        "outputId": "be40b9ef-0421-4407-e46b-82caf8b56eb1"
      },
      "outputs": [
        {
          "name": "stdout",
          "output_type": "stream",
          "text": [
            "Taille du corpus : 47371\n"
          ]
        }
      ],
      "source": [
        "print('Taille du corpus : {0:d}'.format(len(corpus)))"
      ]
    },
    {
      "cell_type": "code",
      "execution_count": null,
      "id": "4f5e88fb",
      "metadata": {
        "id": "4f5e88fb",
        "outputId": "404e24fa-3953-42f4-9dd0-8b89b5005f73"
      },
      "outputs": [
        {
          "data": {
            "image/png": "[encoded data removed]",
            "text/plain": [
              "<Figure size 432x288 with 1 Axes>"
            ]
          },
          "metadata": {
            "needs_background": "light"
          },
          "output_type": "display_data"
        }
      ],
      "source": [
        "# Histogram of the target variable 'Y'\n",
        "plt.hist(Y)\n",
        "plt.show()"
      ]
    },
    {
      "cell_type": "markdown",
      "source": [
        "**Nettoyage et prétraitement du texte :**"
      ],
      "metadata": {
        "id": "GJFAq2kc123e"
      },
      "id": "GJFAq2kc123e"
    },
    {
      "cell_type": "markdown",
      "source": [
        "Preprocesses the input text by performing lowercasing, removing punctuation, numbers,\n",
        "    extra spaces, tokenizing, removing stopwords, and applying lemmatization."
      ],
      "metadata": {
        "id": "ExehJFg6B3Ck"
      },
      "id": "ExehJFg6B3Ck"
    },
    {
      "cell_type": "code",
      "source": [
        "# Fonction de nettoyage de texte\n",
        "def clean_text(text):\n",
        "    text = text.lower()  # Convertir en minuscule\n",
        "    text = re.sub(r'\\W', ' ', text)  # Suppression de la ponctuation\n",
        "    text = re.sub(r'\\s+', ' ', text)  # Suppression des espaces supplémentaires\n",
        "    text = re.sub(r'http\\S+', '', text)  # Suppression des URLs\n",
        "    return text"
      ],
      "metadata": {
        "id": "tWdjyHX72Dz_"
      },
      "id": "tWdjyHX72Dz_",
      "execution_count": null,
      "outputs": []
    },
    {
      "cell_type": "code",
      "source": [
        "\n",
        "# Application du nettoyage\n",
        "data['Cleaned_Text'] = data['Text'].apply(clean_text)"
      ],
      "metadata": {
        "id": "prz_pmFe2HqQ"
      },
      "id": "prz_pmFe2HqQ",
      "execution_count": null,
      "outputs": []
    },
    {
      "cell_type": "code",
      "source": [
        "# Suppression des stopwords et lemmatisation\n",
        "stop_words = set(stopwords.words('english')) # Set of English stopwords\n",
        "lemmatizer = WordNetLemmatizer() # Initialize lemmatizer"
      ],
      "metadata": {
        "id": "NfBTyYSf2HnV"
      },
      "id": "NfBTyYSf2HnV",
      "execution_count": null,
      "outputs": []
    },
    {
      "cell_type": "code",
      "source": [
        "def preprocess_text(text):\n",
        "    tokens = nltk.word_tokenize(text) # Tokenize text\n",
        "    tokens = [lemmatizer.lemmatize(word) for word in tokens if word not in stop_words]# Lemmatize tokens\n",
        "    return ' '.join(tokens)"
      ],
      "metadata": {
        "id": "0UqhX0tk2Hk9"
      },
      "id": "0UqhX0tk2Hk9",
      "execution_count": null,
      "outputs": []
    },
    {
      "cell_type": "code",
      "source": [
        "# Application de la prétraitement\n",
        "data['Preprocessed_Text'] = data['Cleaned_Text'].apply(preprocess_text)"
      ],
      "metadata": {
        "id": "xMbasfR02Hfd"
      },
      "id": "xMbasfR02Hfd",
      "execution_count": null,
      "outputs": []
    },
    {
      "cell_type": "markdown",
      "id": "c7035b4a",
      "metadata": {
        "id": "c7035b4a"
      },
      "source": [
        "### Découpage de la base en Apprentissage et test"
      ]
    },
    {
      "cell_type": "code",
      "execution_count": null,
      "id": "4ad7d1ab",
      "metadata": {
        "id": "4ad7d1ab"
      },
      "outputs": [],
      "source": [
        "corpus_train,corpus_test,y_train,y_test=train_test_split(corpus,Y,test_size=0.33,shuffle=True,random_state=1)"
      ]
    },
    {
      "cell_type": "markdown",
      "id": "44748a79",
      "metadata": {
        "id": "44748a79"
      },
      "source": [
        "<h1 align=center><font size = 5 color='blue'>Création des modèles d'apprentissage</font></h1>"
      ]
    },
    {
      "cell_type": "code",
      "execution_count": null,
      "id": "843d4f01",
      "metadata": {
        "id": "843d4f01"
      },
      "outputs": [],
      "source": [
        "# Définition d'un dictionnaire contenant différents algorithmes d'apprentissage automatique\n",
        "\n",
        "algos = {\n",
        "'RF' : RandomForestRegressor(n_estimators=50,random_state=1,n_jobs=-1),\n",
        " 'KNN' : KNeighborsRegressor(n_neighbors=5,n_jobs=-1,metric='cosine'),\n",
        "  'MLP' : MLPRegressor(hidden_layer_sizes=(20,10),max_iter=200,random_state=1,alpha=0.001)\n",
        "}\n",
        "# Définition d'une fonction run_models pour entraîner et évaluer les modèles\n",
        "def run_models(X_train, Y_train, X_test, Y_test, algos):\n",
        "    # Boucle à travers les noms des algorithmes\n",
        "    for algo_name in algos:\n",
        "        model = algos[algo_name]  # Sélection du modèle à partir du dictionnaire\n",
        "        model.fit(X_train, Y_train)  # Entraîner le modèle sur les données d'entraînement\n",
        "        prediction = model.predict(X_test)  # Effectuer des prédictions sur les données de test\n",
        "        prediction[prediction < 1] = 1  # Assurer que les prédictions sont dans la plage [1, 5]\n",
        "        prediction[prediction > 5] = 5\n",
        "        MAE = mean_absolute_error(Y_test, prediction)  # Calcul de l'erreur absolue moyenne\n",
        "        ACC = accuracy_score(Y_test, np.round(prediction))  # Calcul de l'exactitude\n",
        "\n",
        "        # Affichage des résultats\n",
        "        print('################## {0} #############'.format(algo_name))\n",
        "        print('MAE = {0:.3f}, Accuracy = {1:.3f}'.format(MAE, ACC))\n",
        "        display(confusion_matrix(Y_test, np.round(prediction)))  # Affichage de la matrice de confusion\n",
        "        print()\n"
      ]
    },
    {
      "cell_type": "markdown",
      "id": "502febf3",
      "metadata": {
        "id": "502febf3"
      },
      "source": [
        "<h1 align=center><font size = 5 color='blue'>Vectorisation des textes par TF-IDF</font></h1>"
      ]
    },
    {
      "cell_type": "markdown",
      "source": [
        "1-CountVectorizer for Bag-of-Words (BoW) Model:\n"
      ],
      "metadata": {
        "id": "2klsjTElDy_L"
      },
      "id": "2klsjTElDy_L"
    },
    {
      "cell_type": "code",
      "source": [
        "\n",
        "\n",
        "# Initializing the CountVectorizer with a maximum of 1000 features and excluding English stop words\n",
        "bow_vectorizer = CountVectorizer(max_features=1000, stop_words='english')\n",
        "\n",
        "# Transforming the training corpus into BoW vectors\n",
        "bow_train = bow_vectorizer.fit_transform(corpus_train)\n",
        "\n",
        "# Transforming the test corpus into BoW vectors using the same vectorizer\n",
        "bow_test = bow_vectorizer.transform(corpus_test)\n",
        "\n",
        "# Running various models with the BoW vectors of the training and test sets\n",
        "run_models(bow_train.toarray(), y_train, bow_test.toarray(), y_test, algos)\n"
      ],
      "metadata": {
        "id": "e4ciBbYE1gGc"
      },
      "id": "e4ciBbYE1gGc",
      "execution_count": null,
      "outputs": []
    },
    {
      "cell_type": "markdown",
      "source": [
        "2.TfidfVectorizer for TF-IDF Model:"
      ],
      "metadata": {
        "id": "rxJwVaHxDwDV"
      },
      "id": "rxJwVaHxDwDV"
    },
    {
      "cell_type": "code",
      "execution_count": null,
      "id": "ad7bf650",
      "metadata": {
        "id": "ad7bf650"
      },
      "outputs": [],
      "source": [
        "\n",
        "\n",
        "# Initializing the TfidfVectorizer with a maximum of 1000 features and excluding English stop words\n",
        "TFIDF = TfidfVectorizer(max_features=1000, stop_words='english')\n",
        "\n",
        "# Fitting the vectorizer to the training corpus\n",
        "TFIDF.fit(corpus_train)\n",
        "\n",
        "# Transforming the training corpus into TF-IDF vectors\n",
        "corpus_train_tfidf = TFIDF.transform(corpus_train)\n",
        "\n",
        "# Transforming the test corpus into TF-IDF vectors using the same vectorizer\n",
        "corpus_test_tfidf = TFIDF.transform(corpus_test)\n"
      ]
    },
    {
      "cell_type": "markdown",
      "source": [
        "3-Displaying Transformed Text and Vocabulary:"
      ],
      "metadata": {
        "id": "Hk2BWMz8Dru4"
      },
      "id": "Hk2BWMz8Dru4"
    },
    {
      "cell_type": "code",
      "execution_count": null,
      "id": "f4e60f09",
      "metadata": {
        "id": "f4e60f09"
      },
      "outputs": [],
      "source": [
        "corpus_train_tfidf[0].toarray() # Pour afficher le premier texte transformé par TFIDF"
      ]
    },
    {
      "cell_type": "code",
      "execution_count": null,
      "id": "fd0d38a0",
      "metadata": {
        "id": "fd0d38a0"
      },
      "outputs": [],
      "source": [
        "CV.vocabulary_ # Pour afficher le vocabulaire gardé par TFIDF"
      ]
    },
    {
      "cell_type": "code",
      "execution_count": null,
      "id": "b24e1e0f",
      "metadata": {
        "id": "b24e1e0f"
      },
      "outputs": [],
      "source": [
        "TFIDF.get_feature_names()[17]  # Pour afficher le 18eme mot du vocabulaire"
      ]
    },
    {
      "cell_type": "markdown",
      "source": [
        "4-Extending Stop Words List:"
      ],
      "metadata": {
        "id": "brghTsG_EGuX"
      },
      "id": "brghTsG_EGuX"
    },
    {
      "cell_type": "code",
      "execution_count": null,
      "id": "bf094377",
      "metadata": {
        "id": "bf094377"
      },
      "outputs": [],
      "source": [
        "# pour compléter la liste des stop words par défaut de sklearn\n",
        "\n",
        "from sklearn.feature_extraction import _stop_words\n",
        "_stop_words.ENGLISH_STOP_WORDS\n",
        "new_stop_words=_stop_words.ENGLISH_STOP_WORDS.union(frozenset({'30','40'}))\n",
        "\n"
      ]
    },
    {
      "cell_type": "markdown",
      "source": [
        "5-Running Models with TF-IDF Vectors:"
      ],
      "metadata": {
        "id": "j6AZD5ZmEKy6"
      },
      "id": "j6AZD5ZmEKy6"
    },
    {
      "cell_type": "code",
      "execution_count": null,
      "id": "324c488c",
      "metadata": {
        "id": "324c488c",
        "outputId": "bad68142-e373-4908-af09-e77c79eda092"
      },
      "outputs": [
        {
          "name": "stdout",
          "output_type": "stream",
          "text": [
            "################## RF #############\n",
            "MAE = 0.735, Accuracy =0.457\n"
          ]
        },
        {
          "data": {
            "text/plain": [
              "array([[ 587,  841,  472,  221,   23],\n",
              "       [  78,  405,  514,  337,   44],\n",
              "       [  34,  213,  722,  822,   96],\n",
              "       [   8,  104,  612, 2217,  720],\n",
              "       [   8,  104,  456, 2779, 3216]])"
            ]
          },
          "metadata": {},
          "output_type": "display_data"
        },
        {
          "name": "stdout",
          "output_type": "stream",
          "text": [
            "\n",
            "################## KNN #############\n",
            "MAE = 0.918, Accuracy =0.361\n"
          ]
        },
        {
          "data": {
            "text/plain": [
              "array([[ 271,  632,  707,  440,   94],\n",
              "       [  62,  242,  507,  496,   71],\n",
              "       [  28,  153,  600,  931,  175],\n",
              "       [   9,  105,  756, 2049,  742],\n",
              "       [  16,  133,  921, 3013, 2480]])"
            ]
          },
          "metadata": {},
          "output_type": "display_data"
        },
        {
          "name": "stdout",
          "output_type": "stream",
          "text": [
            "\n",
            "################## MLP #############\n",
            "MAE = 0.752, Accuracy =0.507\n"
          ]
        },
        {
          "data": {
            "text/plain": [
              "array([[1250,  445,  202,  141,  106],\n",
              "       [ 371,  361,  302,  224,  120],\n",
              "       [ 167,  339,  468,  589,  324],\n",
              "       [ 114,  255,  511, 1311, 1470],\n",
              "       [ 141,  234,  377, 1270, 4541]])"
            ]
          },
          "metadata": {},
          "output_type": "display_data"
        },
        {
          "name": "stdout",
          "output_type": "stream",
          "text": [
            "\n"
          ]
        }
      ],
      "source": [
        "# Run models with TF-IDF vectors\n",
        "run_models (corpus_train_tfidf.toarray(),y_train,corpus_test_tfidf.toarray(),y_test,algos)"
      ]
    },
    {
      "cell_type": "markdown",
      "id": "9b743558",
      "metadata": {
        "id": "9b743558"
      },
      "source": [
        "<h1 align=center><font size = 5 color='blue'>Sélection de mots clés pertinents</font></h1>"
      ]
    },
    {
      "cell_type": "code",
      "execution_count": null,
      "id": "3a18924b",
      "metadata": {
        "id": "3a18924b",
        "outputId": "654d3485-ca8d-4a02-cf91-7a0fb6049a44"
      },
      "outputs": [
        {
          "name": "stdout",
          "output_type": "stream",
          "text": [
            "['great' 'worst' 'told' 'amazing' 'best' 'rude' 'horrible' 'delicious'\n",
            " 'love' 'good' 'friendly' 'terrible' 'awesome' 'excellent' 'asked'\n",
            " 'highly' 'definitely' 'said' 'ok' 'food' 'bland' 'nice' 'bad' 'place'\n",
            " 'poor' 'just' 'wasn' 'perfect' 'don' 'minutes']\n"
          ]
        },
        {
          "data": {
            "image/png": "[encoded data removed]",
            "text/plain": [
              "<Figure size 432x288 with 1 Axes>"
            ]
          },
          "metadata": {
            "needs_background": "light"
          },
          "output_type": "display_data"
        }
      ],
      "source": [
        "# Extraction des caractéristiques TF-IDF et utilisation de Random Forest pour la régression\n",
        "\n",
        "# Transformation de votre corpus d'entraînement en une matrice TF-IDF\n",
        "X_array = corpus_train_tfidf.toarray()\n",
        "\n",
        "# Obtention des noms de caractéristiques TF-IDF\n",
        "features = np.asarray(TFIDF.get_feature_names())\n",
        "\n",
        "# Création d'un modèle de régression Random Forest\n",
        "clf = RandomForestRegressor(n_estimators=500, random_state=1, n_jobs=-1)\n",
        "nb_best = 30\n",
        "\n",
        "# Entraînement du modèle Random Forest sur les caractéristiques TF-IDF\n",
        "clf.fit(X_array, y_train)\n",
        "# Calcul de l'importance des caractéristiques\n",
        "importances=clf.feature_importances_\n",
        "std = np.std([tree.feature_importances_ for tree in clf.estimators_],axis=0)\n",
        "sorted_idx = np.argsort(importances)[::-1]\n",
        "print(features[sorted_idx][:nb_best]) # Affichage des meilleures caractéristiques\n",
        "padding = np.arange(nb_best) + 0.5\n",
        "plt.barh(padding, importances[sorted_idx][:nb_best],xerr=std[sorted_idx][:nb_best], align='center')\n",
        "plt.yticks(padding, features[sorted_idx][:nb_best])\n",
        "plt.xlabel(\"Relative Importance\")\n",
        "plt.title(\"Variable Importance\")\n",
        "plt.show()"
      ]
    },
    {
      "cell_type": "markdown",
      "id": "001dd793",
      "metadata": {
        "id": "001dd793"
      },
      "source": [
        "<h1 align=center><font size = 5 color='blue'>Vectorisation des textes par SVD</font></h1>"
      ]
    },
    {
      "cell_type": "code",
      "execution_count": null,
      "id": "b849d57c",
      "metadata": {
        "id": "b849d57c"
      },
      "outputs": [],
      "source": [
        "\n",
        "# Truncated SVD pour la réduction de dimension\n",
        "\n",
        "# Création d'une instance de Truncated SVD avec 100 composantes\n",
        "SVD = TruncatedSVD(n_components=100)\n",
        "\n",
        "# Entraînement de Truncated SVD sur la matrice TF-IDF\n",
        "SVD.fit(corpus_train_tfidf)\n",
        "\n",
        "# Transformation des données d'entraînement et de test\n",
        "corpus_train_SVD = SVD.transform(corpus_train_tfidf)\n",
        "corpus_test_SVD = SVD.transform(corpus_test_tfidf)"
      ]
    },
    {
      "cell_type": "code",
      "execution_count": null,
      "id": "18e2a2be",
      "metadata": {
        "id": "18e2a2be",
        "outputId": "1767c724-278c-4b3a-fa24-14536732fba0"
      },
      "outputs": [
        {
          "data": {
            "text/plain": [
              "(1000,)"
            ]
          },
          "execution_count": 30,
          "metadata": {},
          "output_type": "execute_result"
        }
      ],
      "source": [
        "SVD.components_[0,:].shape"
      ]
    },
    {
      "cell_type": "code",
      "execution_count": null,
      "id": "2020a99b",
      "metadata": {
        "id": "2020a99b",
        "outputId": "e6b55617-04ef-41b1-9f4d-8c15ede23f21"
      },
      "outputs": [
        {
          "data": {
            "text/plain": [
              "(31738, 100)"
            ]
          },
          "execution_count": 18,
          "metadata": {},
          "output_type": "execute_result"
        }
      ],
      "source": [
        "corpus_train_SVD.shape"
      ]
    },
    {
      "cell_type": "code",
      "execution_count": null,
      "id": "101f1cc7",
      "metadata": {
        "id": "101f1cc7"
      },
      "outputs": [],
      "source": [
        "# Fonction pour afficher les mots clés par concept SVD\n",
        "def print_top_words(model, feature_names, n_top_words):\n",
        "    for topic_idx, topic in enumerate(model.components_):\n",
        "        message = \"Concept %d: \" % topic_idx\n",
        "        message += \" \".join([feature_names[i]+'('+str(np.round(topic[i],2))+')' for i in topic.argsort()[:-n_top_words - 1:-1]])\n",
        "        print(message)\n",
        "    print()"
      ]
    },
    {
      "cell_type": "code",
      "execution_count": null,
      "id": "bffb0070",
      "metadata": {
        "id": "bffb0070",
        "outputId": "537e2a13-71fb-438b-cb03-e20d1192fc05"
      },
      "outputs": [
        {
          "name": "stdout",
          "output_type": "stream",
          "text": [
            "Concept 0: food(0.23) good(0.22) great(0.21) place(0.21) service(0.17)\n",
            "Concept 1: food(0.37) good(0.25) great(0.18) chicken(0.15) delicious(0.13)\n",
            "Concept 2: great(0.58) service(0.19) staff(0.19) friendly(0.19) love(0.14)\n",
            "Concept 3: pizza(0.45) love(0.31) place(0.31) best(0.12) like(0.1)\n",
            "Concept 4: pizza(0.75) service(0.21) great(0.15) customer(0.11) crust(0.11)\n",
            "Concept 5: good(0.55) pizza(0.3) really(0.12) pretty(0.12) service(0.11)\n",
            "Concept 6: great(0.52) room(0.15) bar(0.11) nice(0.11) burger(0.1)\n",
            "Concept 7: good(0.49) recommend(0.15) chicken(0.15) car(0.14) friendly(0.14)\n",
            "Concept 8: staff(0.36) friendly(0.29) room(0.26) hotel(0.21) nice(0.18)\n",
            "Concept 9: staff(0.38) friendly(0.36) love(0.19) place(0.12) order(0.12)\n",
            "Concept 10: amazing(0.33) good(0.25) time(0.24) burger(0.24) recommend(0.16)\n",
            "Concept 11: sushi(0.47) place(0.42) recommend(0.17) service(0.14) rolls(0.12)\n",
            "Concept 12: love(0.5) service(0.4) burger(0.2) customer(0.19) room(0.18)\n",
            "Concept 13: love(0.44) chicken(0.21) good(0.2) time(0.14) food(0.14)\n",
            "Concept 14: sushi(0.44) time(0.24) love(0.21) ve(0.14) bar(0.13)\n",
            "Concept 15: und(0.62) die(0.45) das(0.32) der(0.32) es(0.23)\n",
            "Concept 16: time(0.33) chicken(0.29) best(0.22) ve(0.17) room(0.14)\n",
            "Concept 17: coffee(0.49) breakfast(0.27) cream(0.18) ice(0.18) delicious(0.14)\n",
            "Concept 18: car(0.28) food(0.28) sushi(0.27) burger(0.21) fresh(0.18)\n",
            "Concept 19: car(0.47) bar(0.27) beer(0.22) best(0.19) selection(0.14)\n",
            "Concept 20: amazing(0.55) staff(0.18) good(0.15) best(0.15) just(0.13)\n",
            "Concept 21: time(0.42) amazing(0.29) store(0.25) vegas(0.16) selection(0.13)\n",
            "Concept 22: car(0.53) really(0.46) nice(0.26) time(0.17) ve(0.14)\n",
            "Concept 23: ice(0.31) cream(0.29) like(0.25) vegas(0.2) car(0.14)\n",
            "Concept 24: store(0.37) best(0.25) nice(0.23) ice(0.22) cream(0.21)\n",
            "Concept 25: awesome(0.3) chicken(0.26) recommend(0.24) really(0.2) coffee(0.18)\n",
            "Concept 26: hair(0.31) ve(0.21) ice(0.2) cream(0.19) awesome(0.16)\n",
            "Concept 27: ve(0.29) ice(0.28) cream(0.26) amazing(0.22) recommend(0.2)\n",
            "Concept 28: nice(0.5) time(0.34) like(0.28) best(0.23) coffee(0.13)\n",
            "Concept 29: just(0.57) awesome(0.2) nice(0.17) time(0.15) ve(0.1)\n",
            "Concept 30: awesome(0.23) really(0.2) coffee(0.17) room(0.17) new(0.15)\n",
            "Concept 31: coffee(0.38) vegas(0.22) hair(0.19) restaurant(0.19) burger(0.18)\n",
            "Concept 32: chicken(0.28) ice(0.28) cream(0.26) excellent(0.21) really(0.19)\n",
            "Concept 33: vegas(0.36) ve(0.3) like(0.22) got(0.2) nice(0.19)\n",
            "Concept 34: order(0.29) tacos(0.25) delicious(0.24) fresh(0.19) don(0.17)\n",
            "Concept 35: hair(0.29) car(0.2) sandwich(0.18) beer(0.18) order(0.17)\n",
            "Concept 36: just(0.34) happy(0.32) hour(0.29) wait(0.21) location(0.18)\n",
            "Concept 37: awesome(0.49) location(0.25) restaurant(0.2) order(0.19) lunch(0.15)\n",
            "Concept 38: awesome(0.46) delicious(0.28) wait(0.26) don(0.18) people(0.14)\n",
            "Concept 39: better(0.22) happy(0.21) beer(0.19) don(0.17) hour(0.17)\n",
            "Concept 40: just(0.27) beer(0.2) come(0.19) breakfast(0.18) menu(0.17)\n",
            "Concept 41: excellent(0.37) beer(0.18) got(0.12) work(0.11) et(0.11)\n",
            "Concept 42: happy(0.34) hour(0.25) prices(0.17) ve(0.15) delicious(0.14)\n",
            "Concept 43: restaurant(0.24) chicken(0.22) breakfast(0.22) did(0.18) excellent(0.16)\n",
            "Concept 44: location(0.37) excellent(0.36) definitely(0.24) sandwich(0.18) did(0.15)\n",
            "Concept 45: excellent(0.41) lunch(0.32) don(0.25) definitely(0.18) tacos(0.15)\n",
            "Concept 46: location(0.31) did(0.21) delicious(0.19) tacos(0.18) job(0.16)\n",
            "Concept 47: breakfast(0.33) location(0.22) delicious(0.19) little(0.17) beer(0.14)\n",
            "Concept 48: location(0.29) delicious(0.23) don(0.2) got(0.18) went(0.13)\n",
            "Concept 49: definitely(0.31) price(0.28) just(0.15) years(0.15) like(0.15)\n",
            "Concept 50: restaurant(0.39) beer(0.29) got(0.22) new(0.2) people(0.16)\n",
            "Concept 51: come(0.43) et(0.31) la(0.28) le(0.27) store(0.19)\n",
            "Concept 52: experience(0.29) et(0.28) la(0.25) le(0.25) delicious(0.18)\n",
            "Concept 53: little(0.35) restaurant(0.19) lunch(0.17) sandwich(0.15) did(0.15)\n",
            "Concept 54: delicious(0.24) et(0.22) make(0.21) la(0.19) le(0.19)\n",
            "Concept 55: new(0.25) try(0.18) people(0.18) et(0.16) super(0.15)\n",
            "Concept 56: prices(0.29) little(0.27) salad(0.21) make(0.21) sure(0.19)\n",
            "Concept 57: little(0.33) come(0.29) experience(0.23) price(0.22) new(0.22)\n",
            "Concept 58: pretty(0.34) menu(0.33) dr(0.24) new(0.16) did(0.12)\n",
            "Concept 59: got(0.39) order(0.27) work(0.26) favorite(0.16) salad(0.13)\n",
            "Concept 60: fresh(0.3) salad(0.16) restaurant(0.16) price(0.15) make(0.15)\n",
            "Concept 61: menu(0.35) better(0.25) fresh(0.19) atmosphere(0.16) little(0.15)\n",
            "Concept 62: make(0.32) better(0.32) new(0.26) sure(0.24) way(0.15)\n",
            "Concept 63: prices(0.34) try(0.21) fresh(0.2) come(0.2) salad(0.18)\n",
            "Concept 64: better(0.37) try(0.2) dog(0.2) area(0.14) hot(0.14)\n",
            "Concept 65: thai(0.26) menu(0.21) better(0.2) people(0.17) friendly(0.15)\n",
            "Concept 66: pretty(0.26) salad(0.24) experience(0.22) cheese(0.21) home(0.17)\n",
            "Concept 67: buffet(0.22) eat(0.21) come(0.16) clean(0.16) people(0.15)\n",
            "Concept 68: pretty(0.27) better(0.27) excellent(0.23) salad(0.23) breakfast(0.17)\n",
            "Concept 69: people(0.29) dog(0.26) hot(0.2) went(0.18) day(0.18)\n",
            "Concept 70: cheese(0.42) atmosphere(0.22) fun(0.21) favorite(0.19) pretty(0.17)\n",
            "Concept 71: super(0.24) dr(0.23) people(0.23) come(0.23) night(0.19)\n",
            "Concept 72: clean(0.3) went(0.27) times(0.19) nails(0.18) work(0.18)\n",
            "Concept 73: favorite(0.44) eat(0.31) thai(0.25) area(0.2) years(0.13)\n",
            "Concept 74: drinks(0.35) super(0.27) ordered(0.22) day(0.19) restaurant(0.17)\n",
            "Concept 75: clean(0.35) thai(0.25) night(0.21) cheese(0.18) menu(0.16)\n",
            "Concept 76: minutes(0.22) night(0.2) buffet(0.18) ordered(0.16) drinks(0.16)\n",
            "Concept 77: steak(0.3) atmosphere(0.28) going(0.22) friendly(0.18) bad(0.17)\n",
            "Concept 78: area(0.34) super(0.24) ordered(0.21) fun(0.2) lot(0.17)\n",
            "Concept 79: fast(0.26) came(0.25) lot(0.14) bad(0.14) eat(0.13)\n",
            "Concept 80: night(0.27) super(0.22) bad(0.2) didn(0.18) salad(0.18)\n",
            "Concept 81: area(0.26) nails(0.21) night(0.21) going(0.2) salad(0.19)\n",
            "Concept 82: went(0.23) steak(0.2) lot(0.2) years(0.15) super(0.14)\n",
            "Concept 83: atmosphere(0.28) tea(0.23) bad(0.21) want(0.19) ll(0.16)\n",
            "Concept 84: shop(0.33) bad(0.19) fish(0.15) drinks(0.14) coming(0.12)\n",
            "Concept 85: fast(0.29) fries(0.23) way(0.2) went(0.14) hot(0.14)\n",
            "Concept 86: fries(0.22) thai(0.22) looking(0.17) dog(0.17) quality(0.17)\n",
            "Concept 87: going(0.21) bad(0.19) looking(0.18) thai(0.18) times(0.15)\n",
            "Concept 88: steak(0.24) fun(0.23) going(0.21) favorite(0.19) day(0.17)\n",
            "Concept 89: loved(0.25) atmosphere(0.2) clean(0.18) came(0.16) wonderful(0.16)\n",
            "Concept 90: quality(0.17) meat(0.17) wasn(0.16) lot(0.16) know(0.16)\n",
            "Concept 91: want(0.26) home(0.25) helpful(0.21) bad(0.2) free(0.19)\n",
            "Concept 92: fast(0.27) home(0.24) took(0.19) area(0.19) times(0.18)\n",
            "Concept 93: free(0.32) old(0.22) fantastic(0.19) day(0.18) selection(0.17)\n",
            "Concept 94: fantastic(0.28) want(0.18) right(0.18) bad(0.16) took(0.15)\n",
            "Concept 95: small(0.21) bit(0.2) steak(0.19) portions(0.14) tea(0.13)\n",
            "Concept 96: rice(0.25) visit(0.24) didn(0.24) worth(0.18) fried(0.17)\n",
            "Concept 97: way(0.21) nails(0.17) came(0.17) ll(0.14) years(0.14)\n",
            "Concept 98: right(0.26) helpful(0.22) hot(0.17) drinks(0.16) quality(0.14)\n",
            "Concept 99: say(0.2) way(0.19) fantastic(0.18) visit(0.16) drinks(0.16)\n",
            "\n"
          ]
        }
      ],
      "source": [
        "print_top_words(SVD, TFIDF.get_feature_names(), 5)       # Affichage des mots clés par concept SVD"
      ]
    },
    {
      "cell_type": "code",
      "execution_count": null,
      "id": "8d84acb5",
      "metadata": {
        "id": "8d84acb5",
        "outputId": "2983f009-18be-4b45-e2e8-d45dec917af7"
      },
      "outputs": [
        {
          "name": "stdout",
          "output_type": "stream",
          "text": [
            "################## RF #############\n",
            "MAE = 0.793, Accuracy =0.413\n"
          ]
        },
        {
          "data": {
            "text/plain": [
              "array([[ 292,  862,  752,  220,   18],\n",
              "       [  36,  303,  684,  332,   23],\n",
              "       [   6,  155,  881,  783,   62],\n",
              "       [   5,   70,  839, 2262,  485],\n",
              "       [   7,   90,  692, 3051, 2723]])"
            ]
          },
          "metadata": {},
          "output_type": "display_data"
        },
        {
          "name": "stdout",
          "output_type": "stream",
          "text": [
            "\n",
            "################## KNN #############\n",
            "MAE = 0.872, Accuracy =0.389\n"
          ]
        },
        {
          "data": {
            "text/plain": [
              "array([[ 502,  763,  600,  248,   31],\n",
              "       [ 103,  340,  527,  356,   52],\n",
              "       [  43,  251,  759,  720,  114],\n",
              "       [  26,  202,  992, 1846,  595],\n",
              "       [  34,  237, 1031, 2623, 2638]])"
            ]
          },
          "metadata": {},
          "output_type": "display_data"
        },
        {
          "name": "stdout",
          "output_type": "stream",
          "text": [
            "\n",
            "################## MLP #############\n",
            "MAE = 0.661, Accuracy =0.516\n"
          ]
        },
        {
          "data": {
            "text/plain": [
              "array([[ 875,  780,  301,  158,   30],\n",
              "       [ 185,  451,  463,  239,   40],\n",
              "       [  44,  296,  658,  783,  106],\n",
              "       [  13,  142,  616, 1942,  948],\n",
              "       [  16,  123,  354, 1933, 4137]])"
            ]
          },
          "metadata": {},
          "output_type": "display_data"
        },
        {
          "name": "stdout",
          "output_type": "stream",
          "text": [
            "\n"
          ]
        }
      ],
      "source": [
        "run_models (corpus_train_SVD,y_train,corpus_test_SVD,y_test,algos)"
      ]
    },
    {
      "cell_type": "code",
      "execution_count": null,
      "id": "e5daff7a",
      "metadata": {
        "id": "e5daff7a"
      },
      "outputs": [],
      "source": [
        "def print_top_words(model, feature_names, n_top_words):\n",
        "    # Pour chaque concept dans le modèle\n",
        "    for topic_idx, topic in enumerate(model.components_):\n",
        "        # Création du message avec le numéro de concept\n",
        "        message = \"Concept #%d: \" % topic_idx\n",
        "        # Tri des indices des mots clés du concept par importance et sélection des n_top_words premiers\n",
        "        top_word_indices = topic.argsort()[:-n_top_words - 1:-1]\n",
        "        # Ajout des mots correspondants au message\n",
        "        message += \" \".join([feature_names[i] for i in top_word_indices])\n",
        "        # Affichage du message\n",
        "        print(message)\n",
        "    # Impression d'une ligne vide pour la séparation\n",
        "    print()"
      ]
    },
    {
      "cell_type": "code",
      "source": [
        "# Appel de la fonction print_top_words avec un modèle SVD, une liste de noms de fonctionnalités (TFIDF) et 10 mots clés par concept\n",
        "print_top_words(SVD, TFIDF.get_feature_names(), 10)\n"
      ],
      "metadata": {
        "id": "keKQ4uKPBmri"
      },
      "id": "keKQ4uKPBmri",
      "execution_count": null,
      "outputs": []
    },
    {
      "cell_type": "markdown",
      "id": "154fc35c",
      "metadata": {
        "id": "154fc35c"
      },
      "source": [
        "<h1 align=center><font size = 5 color='blue'>Vectorisation par Word2Vec entrainé</font></h1>"
      ]
    },
    {
      "cell_type": "code",
      "execution_count": null,
      "id": "6eafb975",
      "metadata": {
        "id": "6eafb975"
      },
      "outputs": [],
      "source": [
        "## get word2vec for each sentences by using average word embeddings\n",
        "\n",
        "def word2vec_generator(texts, model, vector_size):\n",
        "    # Initialisation d'un dictionnaire pour stocker les vecteurs Word2Vec\n",
        "    dict_word2vec = {}\n",
        "    for index, word_list in enumerate(texts):\n",
        "        arr = np.array([0.0 for i in range(0, vector_size)])  # Initialisation du vecteur\n",
        "        nb_word = 0  # Compteur de mots valides\n",
        "        for word in word_list:\n",
        "            try:\n",
        "                arr += model[word]  # Ajout du vecteur du mot\n",
        "                nb_word = nb_word + 1\n",
        "            except KeyError:\n",
        "                continue  # Ignorer les mots absents du modèle\n",
        "        if (len(word_list) == 0):\n",
        "            dict_word2vec[index] = arr\n",
        "        else:\n",
        "            dict_word2vec[index] = arr / nb_word  # Moyenne des vecteurs des mots dans la phrase\n",
        "    df_word2vec = pd.DataFrame(dict_word2vec).T  # Création d'un DataFrame\n",
        "    return df_word2vec"
      ]
    },
    {
      "cell_type": "markdown",
      "source": [
        "Training Word2Vec:"
      ],
      "metadata": {
        "id": "NhZ2OVp882vz"
      },
      "id": "NhZ2OVp882vz"
    },
    {
      "cell_type": "code",
      "execution_count": null,
      "id": "7def3ce3",
      "metadata": {
        "id": "7def3ce3"
      },
      "outputs": [],
      "source": [
        "import gensim"
      ]
    },
    {
      "cell_type": "code",
      "execution_count": null,
      "id": "f3ab1b39",
      "metadata": {
        "id": "f3ab1b39"
      },
      "outputs": [],
      "source": [
        "type(corpus_train)"
      ]
    },
    {
      "cell_type": "code",
      "execution_count": null,
      "id": "41ca6a0a",
      "metadata": {
        "id": "41ca6a0a"
      },
      "outputs": [],
      "source": [
        "# Tokenization for Word2Vec training\n",
        "corpus_train_tokens = pd.Series(corpus_train).apply(lambda line : gensim.utils.simple_preprocess((line)))\n",
        "corpus_test_tokens = pd.Series(corpus_test).apply(lambda line : gensim.utils.simple_preprocess((line)))"
      ]
    },
    {
      "cell_type": "code",
      "execution_count": null,
      "id": "c01d76d0",
      "metadata": {
        "id": "c01d76d0"
      },
      "outputs": [],
      "source": [
        "model_wv_entraine=gensim.models.Word2Vec.load('../models/Word2vec_entraine.h5')"
      ]
    },
    {
      "cell_type": "code",
      "execution_count": null,
      "id": "43c57a9e",
      "metadata": {
        "id": "43c57a9e"
      },
      "outputs": [],
      "source": [
        "vector_size=model_wv_entraine.vector_size\n",
        "# Création de vecteurs Word2Vec pour l'ensemble d'entrainement et de test\n",
        "corpus_train_wv_entraine=word2vec_generator(corpus_train_tokens,model_wv_entraine.wv,vector_size)\n",
        "corpus_test_wv_entraine=word2vec_generator(corpus_test_tokens,model_wv_entraine.wv,vector_size)"
      ]
    },
    {
      "cell_type": "code",
      "execution_count": null,
      "id": "e465b655",
      "metadata": {
        "id": "e465b655"
      },
      "outputs": [],
      "source": [
        "corpus_train_wv_entraine.iloc[0,:] # Exemple d'accès à un vecteur Word2Vec"
      ]
    },
    {
      "cell_type": "code",
      "execution_count": null,
      "id": "93bc4abb",
      "metadata": {
        "id": "93bc4abb"
      },
      "outputs": [],
      "source": [
        "corpus_train[0] # Exemple d'accès à une phrase brute"
      ]
    },
    {
      "cell_type": "code",
      "execution_count": null,
      "id": "7b177fb5",
      "metadata": {
        "id": "7b177fb5"
      },
      "outputs": [],
      "source": [
        "corpus_train_tokens[0] # Exemple d'accès à une phrase tokenisée"
      ]
    },
    {
      "cell_type": "code",
      "execution_count": null,
      "id": "e96cf953",
      "metadata": {
        "id": "e96cf953"
      },
      "outputs": [],
      "source": [
        "run_models (corpus_train_wv_entraine,y_train,corpus_test_wv_entraine,y_test,algos)      # Exécution des modèles d'apprentissage sur les vecteurs Word2Vec entrainés"
      ]
    },
    {
      "cell_type": "markdown",
      "id": "889f8765",
      "metadata": {
        "id": "889f8765"
      },
      "source": [
        "<h1 align=center><font size = 5 color='blue'>Vectorisation Word2Vec pre-entrainé de Google</font></h1>"
      ]
    },
    {
      "cell_type": "code",
      "execution_count": null,
      "id": "d8bf58f6",
      "metadata": {
        "id": "d8bf58f6"
      },
      "outputs": [],
      "source": [
        "# Chargement d'un modèle Word2Vec pré-entrainé\n",
        "model_wv_google=gensim.models.KeyedVectors.load_word2vec_format('../models/GoogleNews-vectors-negative300.bin'\n",
        "                                                                , binary=True)"
      ]
    },
    {
      "cell_type": "code",
      "execution_count": null,
      "id": "03c506bb",
      "metadata": {
        "id": "03c506bb"
      },
      "outputs": [],
      "source": [
        "model_wv_google.vector_size"
      ]
    },
    {
      "cell_type": "code",
      "execution_count": null,
      "id": "53976827",
      "metadata": {
        "id": "53976827"
      },
      "outputs": [],
      "source": [
        "len(model_wv_google.index_to_key)"
      ]
    },
    {
      "cell_type": "code",
      "execution_count": null,
      "id": "012ff089",
      "metadata": {
        "id": "012ff089"
      },
      "outputs": [],
      "source": [
        "#corpus_train_tokens[0]\n",
        "vector_size=model_wv_google.vector_size\n",
        "# Création de vecteurs Word2Vec pour l'ensemble d'entrainement et de test à partir du modèle Google\n",
        "corpus_train_wv_google=word2vec_generator(corpus_train_tokens,model_wv_google,vector_size)\n",
        "corpus_test_wv_google=word2vec_generator(corpus_test_tokens,model_wv_google,vector_size)"
      ]
    },
    {
      "cell_type": "code",
      "execution_count": null,
      "id": "be1722ed",
      "metadata": {
        "id": "be1722ed"
      },
      "outputs": [],
      "source": [
        "\n",
        "# Exécution des modèles d'apprentissage sur les vecteurs Word2Vec pré-entrainés de Google\n",
        "run_models(corpus_train_wv_google,y_train,corpus_test_wv_google,y_test,algos)"
      ]
    },
    {
      "cell_type": "markdown",
      "source": [
        "<h1 align=center><font size = 5 color='blue'>Prédiction par LSTM</font></h1>\n"
      ],
      "metadata": {
        "id": "X7qX-k3QZXc7"
      },
      "id": "X7qX-k3QZXc7"
    },
    {
      "cell_type": "code",
      "execution_count": null,
      "id": "eda121f9",
      "metadata": {
        "id": "eda121f9"
      },
      "outputs": [],
      "source": [
        "# Prédiction par LSTM (Réseau de neurones récurrents)\n",
        "# Fonction pour convertir une phrase en une séquence d'indices de mots\n",
        "def to_sequence(index, text):\n",
        "    indexes = [index[word] for word in text if word in index]\n",
        "    return indexes\n",
        "\n",
        "# Création d'un index de mots pour le modèle Word2Vec pré-entrainé de Google\n",
        "word2idx = {word: idx for idx, word in enumerate(model_wv_google.index_to_key)}\n",
        "\n",
        "# Conversion des phrases en séquences d'indices de mots\n",
        "X_train_sequences = [to_sequence(word2idx, x) for x in corpus_train_tokens]\n",
        "X_test_sequences = [to_sequence(word2idx, x) for x in corpus_test_tokens]\n",
        "\n",
        "# Vérification des phrases tokenisées et de leurs séquences d'indices\n",
        "print(corpus_train_tokens.values[0])\n",
        "print(X_train_sequences[0])"
      ]
    },
    {
      "cell_type": "code",
      "execution_count": null,
      "id": "35cbfef7",
      "metadata": {
        "id": "35cbfef7"
      },
      "outputs": [],
      "source": [
        "type(X_train_sequences)"
      ]
    },
    {
      "cell_type": "code",
      "execution_count": null,
      "id": "d3ff8e75",
      "metadata": {
        "id": "d3ff8e75"
      },
      "outputs": [],
      "source": [
        "max([len(X_train_sequences[i]) for i in range(len(X_train_sequences))]) # Utilisation de padding pour avoir des séquences de longueur égale"
      ]
    },
    {
      "cell_type": "code",
      "execution_count": null,
      "id": "f45887db",
      "metadata": {
        "id": "f45887db"
      },
      "outputs": [],
      "source": [
        "# Utilisation de padding pour avoir des séquences de longueur égale\n",
        "MAX_SEQ_LENGHT=50\n",
        "N_FEATURES = len(model_wv_google.index_to_key)\n",
        "X_train_sequences = pad_sequences(X_train_sequences, maxlen=MAX_SEQ_LENGHT, value=N_FEATURES)\n",
        "X_test_sequences = pad_sequences(X_test_sequences, maxlen=MAX_SEQ_LENGHT, value=N_FEATURES)\n",
        "print(X_train_sequences[0])"
      ]
    },
    {
      "cell_type": "code",
      "execution_count": null,
      "id": "2ad1ee8b",
      "metadata": {
        "id": "2ad1ee8b"
      },
      "outputs": [],
      "source": [
        "\n",
        "# Création d'une matrice d'embeddings pour les mots du modèle Word2Vec pré-entrainé\n",
        "EMBEDDINGS_LEN = model_wv_google.vector_size\n",
        "embeddings_index = np.zeros((len(model_wv_google.index_to_key)+1, EMBEDDINGS_LEN))\n",
        "embeddings_index.shape\n"
      ]
    },
    {
      "cell_type": "code",
      "execution_count": null,
      "id": "793a7bf3",
      "metadata": {
        "id": "793a7bf3"
      },
      "outputs": [],
      "source": [
        "EMBEDDINGS_LEN = model_wv_google.vector_size\n",
        "embeddings_index = np.zeros((len(model_wv_google.index_to_key)+1, EMBEDDINGS_LEN))\n",
        "for word, idx in word2idx.items():\n",
        "    try:\n",
        "        embedding = model_wv_google[word]\n",
        "        embeddings_index[idx] = embedding\n",
        "    except:\n",
        "        pass\n",
        "\n",
        "print(\"EMBEDDINGS_LEN=\", EMBEDDINGS_LEN)"
      ]
    },
    {
      "cell_type": "code",
      "execution_count": null,
      "id": "2b27731e",
      "metadata": {
        "id": "2b27731e"
      },
      "outputs": [],
      "source": [
        "\n",
        "\n",
        "# Construction d'un modèle LSTM\n",
        "model_lstm = Sequential()\n",
        "model_lstm.add(Embedding(len(model_wv_google.key_to_index)+1,\n",
        "                    EMBEDDINGS_LEN,  # Embedding size\n",
        "                    weights=[embeddings_index],\n",
        "                    trainable=False))\n",
        "\n",
        "#model_Bilstm.add(Embedding(30000,\n",
        "#                    300,  # Embedding size\n",
        "#                    input_length=50,\n",
        "#                    trainable=True))\n",
        "\n",
        "model_lstm.add(LSTM(300, dropout=0.2,return_sequences=True))\n",
        "model_lstm.add(LSTM(100, dropout=0.2))\n",
        "\n",
        "#model_lstm.add(Bidirectional(LSTM(128,recurrent_dropout=0.2, return_sequences=True),merge_mode='concat'))\n",
        "#model_lstm.add(Bidirectional(LSTM(128,recurrent_dropout=0.2, return_sequences=False),merge_mode='concat'))\n",
        "\n",
        "\n",
        "model_lstm.add(Dense(1))\n",
        "model_lstm.compile(loss='mean_absolute_error', optimizer='adam', metrics=['mean_absolute_error'])\n",
        "model_lstm.summary()\n",
        "\n",
        "\n"
      ]
    },
    {
      "cell_type": "code",
      "execution_count": null,
      "id": "74334a94",
      "metadata": {
        "id": "74334a94"
      },
      "outputs": [],
      "source": [
        "# Entrainement du modèle LSTM\n",
        "history = model_lstm.fit(X_train_sequences, y_train, epochs=10, batch_size=128, verbose=1,validation_split=0.1)"
      ]
    },
    {
      "cell_type": "code",
      "execution_count": null,
      "id": "9cb80b0d",
      "metadata": {
        "id": "9cb80b0d"
      },
      "outputs": [],
      "source": [
        "scores_lstm = model_lstm.evaluate(X_test_sequences, y_test, verbose=1)  # Evaluation du modèle LSTM sur l'ensemble de test"
      ]
    },
    {
      "cell_type": "code",
      "execution_count": null,
      "id": "86b55812",
      "metadata": {
        "id": "86b55812"
      },
      "outputs": [],
      "source": [
        "prediction=model_lstm.predict(X_test_sequences) # Prédiction avec le modèle LSTM\n",
        "prediction[prediction<1]=1\n",
        "prediction[prediction>5]=5\n",
        "ACC=accuracy_score(y_test,np.round(prediction))\n",
        "MAE=mean_absolute_error(y_test,prediction)\n",
        "print('For LSTM MAE = {0:.3f}, Accuracy ={1:.3f}'.format(MAE,ACC))\n",
        "display(confusion_matrix(y_test,np.round(prediction)))"
      ]
    },
    {
      "cell_type": "markdown",
      "source": [
        "**Utilisation de la sortie des LSTM dans d'autres modèles supervisés**"
      ],
      "metadata": {
        "id": "uJIr2S6HZw4v"
      },
      "id": "uJIr2S6HZw4v"
    },
    {
      "cell_type": "code",
      "execution_count": null,
      "id": "b27609d4",
      "metadata": {
        "id": "b27609d4"
      },
      "outputs": [],
      "source": [
        "model_lstm.layers"
      ]
    },
    {
      "cell_type": "code",
      "execution_count": null,
      "id": "fc64e0eb",
      "metadata": {
        "id": "fc64e0eb"
      },
      "outputs": [],
      "source": [
        "# Utilisation de la sortie des LSTM dans d'autres modèles supervisés\n",
        "Model_rf = Model(inputs=model_lstm.inputs, outputs=model_lstm.layers[1].output)\n",
        "Model_rf.save('../models/model_lstm_features.h5')\n",
        "corpus_train_lstm = Model_rf.predict(X_train_sequences)\n",
        "corpus_test_lstm = Model_rf.predict(X_test_sequences)\n"
      ]
    },
    {
      "cell_type": "code",
      "execution_count": null,
      "id": "02de2d65",
      "metadata": {
        "id": "02de2d65"
      },
      "outputs": [],
      "source": [
        "corpus_train_lstm.shape"
      ]
    },
    {
      "cell_type": "code",
      "execution_count": null,
      "id": "ad7de0ba",
      "metadata": {
        "id": "ad7de0ba"
      },
      "outputs": [],
      "source": [
        "\n",
        "# Exécution des modèles d'apprentissage sur les caractéristiques extraites des LSTM\n",
        "run_models(corpus_train_lstm,y_train,corpus_test_lstm,y_test,algos)"
      ]
    },
    {
      "cell_type": "markdown",
      "source": [
        "**Train Your Own Word2Vec Model**"
      ],
      "metadata": {
        "id": "EwiTLS0B7B1P"
      },
      "id": "EwiTLS0B7B1P"
    },
    {
      "cell_type": "code",
      "execution_count": null,
      "id": "296973df",
      "metadata": {
        "id": "296973df"
      },
      "outputs": [],
      "source": [
        "# Entrainement de votre propre modèle Word2Vec\n",
        "import gensim\n",
        "from gensim.models import Word2Vec\n",
        "\n",
        "# Tokenization for Word2Vec training\n",
        "corpus_train_tokens = [gensim.utils.simple_preprocess(doc) for doc in corpus_train]\n",
        "\n",
        "# Train Word2Vec model\n",
        "model_wv = Word2Vec(sentences=corpus_train_tokens, vector_size=100, window=5, min_count=1, workers=4)\n"
      ]
    },
    {
      "cell_type": "markdown",
      "source": [
        "2. Evaluate the Word2Vec Model"
      ],
      "metadata": {
        "id": "fbXcvj7y7G_P"
      },
      "id": "fbXcvj7y7G_P"
    },
    {
      "cell_type": "markdown",
      "source": [
        "Finding Similar Words:"
      ],
      "metadata": {
        "id": "EAid-MtH_g_i"
      },
      "id": "EAid-MtH_g_i"
    },
    {
      "cell_type": "code",
      "source": [
        "# Example of finding similar words\n",
        "similar_words = word2vec_model.wv.most_similar('example_word', topn=5)\n",
        "print(similar_words)\n"
      ],
      "metadata": {
        "id": "nqCu69W2_jGX"
      },
      "id": "nqCu69W2_jGX",
      "execution_count": null,
      "outputs": []
    },
    {
      "cell_type": "code",
      "execution_count": null,
      "id": "e697418b",
      "metadata": {
        "id": "e697418b"
      },
      "outputs": [],
      "source": [
        "from sklearn.manifold import TSNE\n",
        "import matplotlib.pyplot as plt\n",
        "\n",
        "# Creating word vectors\n",
        "word_vectors = model_wv.wv\n",
        "words = list(word_vectors.index_to_key)\n",
        "\n",
        "# Creating a 2D representation of word vectors using t-SNE\n",
        "tsne = TSNE(n_components=2, random_state=0)\n",
        "word_vectors_2d = tsne.fit_transform(word_vectors.vectors)\n",
        "\n",
        "# Plotting\n",
        "plt.figure(figsize=(10, 10))\n",
        "for i, word in enumerate(words[:50]):  # Plotting only the first 50 words for simplicity\n",
        "    plt.scatter(word_vectors_2d[i, 0], word_vectors_2d[i, 1])\n",
        "    plt.annotate(word, (word_vectors_2d[i, 0], word_vectors_2d[i, 1]))\n",
        "plt.show()\n"
      ]
    },
    {
      "cell_type": "code",
      "execution_count": null,
      "id": "47347652",
      "metadata": {
        "id": "47347652"
      },
      "outputs": [],
      "source": [
        "#  checking similarity\n",
        "print(model_wv.wv.most_similar('example_word'))\n"
      ]
    },
    {
      "cell_type": "markdown",
      "source": [
        "3. Use Word2Vec for Text Vectorization"
      ],
      "metadata": {
        "id": "PC34zYvp7OZ4"
      },
      "id": "PC34zYvp7OZ4"
    },
    {
      "cell_type": "code",
      "execution_count": null,
      "id": "68ef401e",
      "metadata": {
        "id": "68ef401e"
      },
      "outputs": [],
      "source": [
        "def vectorize_text(model, corpus):\n",
        "    vectorized_corpus = []\n",
        "    for text in corpus:\n",
        "        tokens = gensim.utils.simple_preprocess(text)\n",
        "        vector = np.mean([model.wv[token] for token in tokens if token in model.wv], axis=0)\n",
        "        vectorized_corpus.append(vector)\n",
        "    return np.array(vectorized_corpus)\n",
        "\n",
        "corpus_train_vect = vectorize_text(model_wv, corpus_train)\n",
        "corpus_test_vect = vectorize_text(model_wv, corpus_test)\n"
      ]
    },
    {
      "cell_type": "markdown",
      "source": [
        "Vectorization with Word2Vec and TF-IDF Weights\n"
      ],
      "metadata": {
        "id": "OWS85S7K7c0u"
      },
      "id": "OWS85S7K7c0u"
    },
    {
      "cell_type": "code",
      "execution_count": null,
      "id": "679a0492",
      "metadata": {
        "id": "679a0492"
      },
      "outputs": [],
      "source": [
        "from sklearn.feature_extraction.text import TfidfVectorizer\n",
        "\n",
        "tfidf = TfidfVectorizer(max_features=1000, stop_words='english')\n",
        "tfidf.fit(corpus_train)\n",
        "tfidf_feat = tfidf.get_feature_names_out()"
      ]
    },
    {
      "cell_type": "code",
      "execution_count": null,
      "id": "7e1e73ab",
      "metadata": {
        "id": "7e1e73ab"
      },
      "outputs": [],
      "source": [
        "def vectorize_with_tfidf(model, corpus, tfidf_model, tfidf_features):\n",
        "    vectorized_corpus = []\n",
        "    for doc in corpus:\n",
        "        tokens = gensim.utils.simple_preprocess(doc)\n",
        "        tfidf_vector = tfidf_model.transform([doc])\n",
        "        weighted_vector = np.zeros(model.vector_size)\n",
        "        weight_sum = 0\n",
        "        for token in tokens:\n",
        "            if token in model.wv and token in tfidf_features:\n",
        "                tfidf_weight = tfidf_vector[0, tfidf_features.index(token)]\n",
        "                weighted_vector += model.wv[token] * tfidf_weight\n",
        "                weight_sum += tfidf_weight\n",
        "        if weight_sum != 0:\n",
        "            weighted_vector /= weight_sum\n",
        "        vectorized_corpus.append(weighted_vector)\n",
        "    return np.array(vectorized_corpus)\n",
        "\n",
        "corpus_train_vect_tfidf = vectorize_with_tfidf(model_wv, corpus_train, tfidf, tfidf_feat)\n",
        "corpus_test_vect_tfidf = vectorize_with_tfidf(model_wv, corpus_test, tfidf, tfidf_feat)\n"
      ]
    },
    {
      "cell_type": "markdown",
      "source": [
        "4. Run Models and Compare Results"
      ],
      "metadata": {
        "id": "DfuZ0qAE7iYR"
      },
      "id": "DfuZ0qAE7iYR"
    },
    {
      "cell_type": "code",
      "execution_count": null,
      "id": "bd2a5c08",
      "metadata": {
        "id": "bd2a5c08"
      },
      "outputs": [],
      "source": [
        "run_models(corpus_train_vect, y_train, corpus_test_vect, y_test, algos)\n",
        "run_models(corpus_train_vect_tfidf, y_train, corpus_test_vect_tfidf, y_test, algos)\n"
      ]
    },
    {
      "cell_type": "markdown",
      "source": [
        "5. Using Pre-trained Word2Vec Model (e.g., Google's Model)"
      ],
      "metadata": {
        "id": "5A2vKaoq7mMk"
      },
      "id": "5A2vKaoq7mMk"
    },
    {
      "cell_type": "code",
      "execution_count": null,
      "id": "f18e7a46",
      "metadata": {
        "id": "f18e7a46"
      },
      "outputs": [],
      "source": [
        "from gensim.models import KeyedVectors\n",
        "\n",
        "model_wv_google = KeyedVectors.load_word2vec_format('GoogleNews-vectors-negative300.bin', binary=True)\n",
        "\n",
        "# Now use model_wv_google to vectorize your text data similarly\n"
      ]
    },
    {
      "cell_type": "markdown",
      "source": [
        "6. Pipeline Automation"
      ],
      "metadata": {
        "id": "8vXE1PqP7poK"
      },
      "id": "8vXE1PqP7poK"
    },
    {
      "cell_type": "code",
      "execution_count": null,
      "id": "4f7e6881",
      "metadata": {
        "id": "4f7e6881"
      },
      "outputs": [],
      "source": [
        "from sklearn.pipeline import Pipeline\n",
        "from sklearn.ensemble import RandomForestClassifier\n",
        "from sklearn.feature_extraction.text import TfidfVectorizer\n",
        "from sklearn.metrics import accuracy_score, mean_absolute_error\n",
        "import re\n",
        "import nltk\n",
        "from nltk.corpus import stopwords\n",
        "from nltk.stem import WordNetLemmatizer\n",
        "\n",
        "# Make sure to download these resources if you haven't already\n",
        "nltk.download('stopwords')\n",
        "nltk.download('wordnet')\n",
        "nltk.download('punkt')\n",
        "\n",
        "def text_preprocessor(text):\n",
        "    # Convert text to lowercase\n",
        "    text = text.lower()\n",
        "\n",
        "    # Remove punctuation\n",
        "    text = re.sub(r'[^\\w\\s]', '', text)\n",
        "\n",
        "    # Remove numbers\n",
        "    text = re.sub(r'\\d+', '', text)\n",
        "\n",
        "    # Remove extra spaces\n",
        "    text = re.sub(r'\\s+', ' ', text).strip()\n",
        "\n",
        "    # Tokenize text\n",
        "    tokens = nltk.word_tokenize(text)\n",
        "\n",
        "    # Remove stopwords\n",
        "    stop_words = set(stopwords.words('english'))\n",
        "    tokens = [word for word in tokens if word not in stop_words]\n",
        "\n",
        "    # Lemmatization\n",
        "    lemmatizer = WordNetLemmatizer()\n",
        "    tokens = [lemmatizer.lemmatize(word) for word in tokens]\n",
        "\n",
        "    return ' '.join(tokens)\n",
        "\n",
        "# Create the pipeline\n",
        "pipeline = Pipeline([\n",
        "    ('vectorizer', TfidfVectorizer(preprocessor=text_preprocessor, max_features=1000, stop_words='english')),\n",
        "    ('classifier', RandomForestClassifier(n_estimators=50, random_state=1))\n",
        "])\n"
      ]
    },
    {
      "cell_type": "code",
      "execution_count": null,
      "id": "12d441d8",
      "metadata": {
        "id": "12d441d8"
      },
      "outputs": [],
      "source": [
        "#Fit the pipeline\n",
        "pipeline.fit(corpus_train, y_train)"
      ]
    },
    {
      "cell_type": "code",
      "execution_count": null,
      "id": "d8c1c991",
      "metadata": {
        "id": "d8c1c991"
      },
      "outputs": [],
      "source": [
        "#Evaluate the pipeline\n",
        "predictions = pipeline.predict(corpus_test)\n",
        "MAE = mean_absolute_error(y_test, predictions)\n",
        "ACC = accuracy_score(y_test, np.round(predictions))\n",
        "\n",
        "print('Pipeline MAE = {0:.3f}, Accuracy = {1:.3f}'.format(MAE, ACC))"
      ]
    }
  ],
  "metadata": {
    "kernelspec": {
      "display_name": "Python 3",
      "name": "python3"
    },
    "language_info": {
      "codemirror_mode": {
        "name": "ipython",
        "version": 3
      },
      "file_extension": ".py",
      "mimetype": "text/x-python",
      "name": "python",
      "nbconvert_exporter": "python",
      "pygments_lexer": "ipython3",
      "version": "3.8.13"
    },
    "colab": {
      "provenance": [],
      "gpuType": "T4"
    },
    "accelerator": "GPU"
  },
  "nbformat": 4,
  "nbformat_minor": 5
}